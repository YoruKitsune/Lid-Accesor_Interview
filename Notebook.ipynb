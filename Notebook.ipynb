{
 "cells": [
  {
   "cell_type": "markdown",
   "id": "1e34981c-2665-448f-a323-5213e278a174",
   "metadata": {},
   "source": [
    "#### Импортируем библиотеки"
   ]
  },
  {
   "cell_type": "code",
   "execution_count": 79,
   "id": "d0d9a204-7020-4891-88f9-c53a81d33031",
   "metadata": {},
   "outputs": [],
   "source": [
    "import pandas as pd\n",
    "import pandasql as ps\n",
    "import matplotlib.pyplot as plt\n",
    "import seaborn as sns\n",
    "import statistics \n",
    "import numpy"
   ]
  },
  {
   "cell_type": "markdown",
   "id": "b6fbee64-dbb1-4fc7-85f4-91d8f3d6fd5e",
   "metadata": {},
   "source": [
    "#### Импортируем датасет"
   ]
  },
  {
   "cell_type": "code",
   "execution_count": 7,
   "id": "6d3b33db-ca98-4b7b-8612-a20adf6a9101",
   "metadata": {},
   "outputs": [],
   "source": [
    "pokemons = pd.read_csv('./Dataset/Pokemon.csv')"
   ]
  },
  {
   "cell_type": "markdown",
   "id": "74c8d703-46d9-4360-a129-bb60bfd0a29b",
   "metadata": {},
   "source": [
    "---"
   ]
  },
  {
   "cell_type": "markdown",
   "id": "51537599-1a2e-484a-aa0f-000457869cb1",
   "metadata": {},
   "source": [
    "### Сколько % покемонов имеет двойной тип?"
   ]
  },
  {
   "cell_type": "markdown",
   "id": "a85ef93c-5857-4476-8e7b-ea618f0616a8",
   "metadata": {},
   "source": [
    "#### Формируем запрос и получаем результат"
   ]
  },
  {
   "cell_type": "code",
   "execution_count": 155,
   "id": "039c10ee-da33-49fb-9c4a-2caa3680c4a4",
   "metadata": {
    "jupyter": {
     "source_hidden": true
    }
   },
   "outputs": [
    {
     "name": "stdout",
     "output_type": "stream",
     "text": [
      "51.75 %\n"
     ]
    }
   ],
   "source": [
    "query_one = '''\n",
    "    SELECT CAST((SELECT COUNT(*) FROM pokemons \n",
    "    WHERE \"Type 1\" IS NOT NULL AND \"Type 2\" IS NOT NULL) as float) / CAST((SELECT COUNT(*) FROM pokemons) as float) * 100 as procents\n",
    "    '''\n",
    "pokemons_task_one = ps.sqldf(query_one, locals())\n",
    "percents = pokemons_task_one.values.tolist()[0][0]\n",
    "print((\"{0:.2f} %\").format(percents))"
   ]
  },
  {
   "cell_type": "markdown",
   "id": "01118493-9ba7-4dcc-b314-806f0622067b",
   "metadata": {},
   "source": [
    "---"
   ]
  },
  {
   "cell_type": "markdown",
   "id": "4d9a72b8-54f8-4316-b0e5-e3fe47434714",
   "metadata": {},
   "source": [
    "### Сколько всего типов покемонов и какими они бывают?"
   ]
  },
  {
   "cell_type": "markdown",
   "id": "f911b571-88d7-4f55-8b6b-835e9af331b0",
   "metadata": {},
   "source": [
    "#### Формируем запрос и получаем результат"
   ]
  },
  {
   "cell_type": "code",
   "execution_count": 213,
   "id": "10d1da03-bbb3-4b7f-ba38-dace8e004e56",
   "metadata": {
    "jupyter": {
     "source_hidden": true
    }
   },
   "outputs": [],
   "source": [
    "query_two_two = '''\n",
    "    SELECT COUNT(*) as Types FROM (SELECT DISTINCT * FROM (SELECT \"Type 1\" as Type FROM pokemons UNION SELECT \"Type 2\" as Type FROM pokemons) WHERE Type IS NOT NULL)\n",
    "    '''\n",
    "pokemons_task_two_two = ps.sqldf(query_two_two, locals())\n"
   ]
  },
  {
   "cell_type": "markdown",
   "id": "390e7058-9f28-41d2-92d4-75ae85eccd92",
   "metadata": {},
   "source": [
    "#### Количество типов"
   ]
  },
  {
   "cell_type": "code",
   "execution_count": 214,
   "id": "320a95c8-67a5-4bbe-94e3-22fbb62dd510",
   "metadata": {
    "scrolled": true
   },
   "outputs": [
    {
     "data": {
      "text/plain": [
       "18"
      ]
     },
     "execution_count": 214,
     "metadata": {},
     "output_type": "execute_result"
    }
   ],
   "source": [
    "pokemons_task_two_two.values.tolist()[0][0]"
   ]
  },
  {
   "cell_type": "markdown",
   "id": "8561d9e3-1b19-4c73-b724-762fe0c21525",
   "metadata": {},
   "source": [
    "#### Формируем запрос и получаем результат"
   ]
  },
  {
   "cell_type": "code",
   "execution_count": 157,
   "id": "e4c9ef9f-4a6e-47d3-aa95-fe8f00cb58bc",
   "metadata": {
    "jupyter": {
     "source_hidden": true
    }
   },
   "outputs": [],
   "source": [
    "query_two_one = '''\n",
    "    SELECT DISTINCT * FROM (SELECT \"Type 1\" as Type FROM pokemons UNION SELECT \"Type 2\" as Type FROM pokemons) WHERE Type IS NOT NULL\n",
    "    '''\n",
    "pokemons_task_two_one = ps.sqldf(query_two_one, locals())"
   ]
  },
  {
   "cell_type": "markdown",
   "id": "8f8a7a16-2cd0-440a-9bce-bad804365047",
   "metadata": {},
   "source": [
    "#### Виды типов:"
   ]
  },
  {
   "cell_type": "code",
   "execution_count": 156,
   "id": "2b9957d0-1a32-4cce-8996-c58434f67ae1",
   "metadata": {},
   "outputs": [
    {
     "data": {
      "text/html": [
       "<div>\n",
       "<style scoped>\n",
       "    .dataframe tbody tr th:only-of-type {\n",
       "        vertical-align: middle;\n",
       "    }\n",
       "\n",
       "    .dataframe tbody tr th {\n",
       "        vertical-align: top;\n",
       "    }\n",
       "\n",
       "    .dataframe thead th {\n",
       "        text-align: right;\n",
       "    }\n",
       "</style>\n",
       "<table border=\"1\" class=\"dataframe\">\n",
       "  <thead>\n",
       "    <tr style=\"text-align: right;\">\n",
       "      <th></th>\n",
       "      <th>Type</th>\n",
       "    </tr>\n",
       "  </thead>\n",
       "  <tbody>\n",
       "    <tr>\n",
       "      <th>0</th>\n",
       "      <td>Bug</td>\n",
       "    </tr>\n",
       "    <tr>\n",
       "      <th>1</th>\n",
       "      <td>Dark</td>\n",
       "    </tr>\n",
       "    <tr>\n",
       "      <th>2</th>\n",
       "      <td>Dragon</td>\n",
       "    </tr>\n",
       "    <tr>\n",
       "      <th>3</th>\n",
       "      <td>Electric</td>\n",
       "    </tr>\n",
       "    <tr>\n",
       "      <th>4</th>\n",
       "      <td>Fairy</td>\n",
       "    </tr>\n",
       "    <tr>\n",
       "      <th>5</th>\n",
       "      <td>Fighting</td>\n",
       "    </tr>\n",
       "    <tr>\n",
       "      <th>6</th>\n",
       "      <td>Fire</td>\n",
       "    </tr>\n",
       "    <tr>\n",
       "      <th>7</th>\n",
       "      <td>Flying</td>\n",
       "    </tr>\n",
       "    <tr>\n",
       "      <th>8</th>\n",
       "      <td>Ghost</td>\n",
       "    </tr>\n",
       "    <tr>\n",
       "      <th>9</th>\n",
       "      <td>Grass</td>\n",
       "    </tr>\n",
       "    <tr>\n",
       "      <th>10</th>\n",
       "      <td>Ground</td>\n",
       "    </tr>\n",
       "    <tr>\n",
       "      <th>11</th>\n",
       "      <td>Ice</td>\n",
       "    </tr>\n",
       "    <tr>\n",
       "      <th>12</th>\n",
       "      <td>Normal</td>\n",
       "    </tr>\n",
       "    <tr>\n",
       "      <th>13</th>\n",
       "      <td>Poison</td>\n",
       "    </tr>\n",
       "    <tr>\n",
       "      <th>14</th>\n",
       "      <td>Psychic</td>\n",
       "    </tr>\n",
       "    <tr>\n",
       "      <th>15</th>\n",
       "      <td>Rock</td>\n",
       "    </tr>\n",
       "    <tr>\n",
       "      <th>16</th>\n",
       "      <td>Steel</td>\n",
       "    </tr>\n",
       "    <tr>\n",
       "      <th>17</th>\n",
       "      <td>Water</td>\n",
       "    </tr>\n",
       "  </tbody>\n",
       "</table>\n",
       "</div>"
      ],
      "text/plain": [
       "        Type\n",
       "0        Bug\n",
       "1       Dark\n",
       "2     Dragon\n",
       "3   Electric\n",
       "4      Fairy\n",
       "5   Fighting\n",
       "6       Fire\n",
       "7     Flying\n",
       "8      Ghost\n",
       "9      Grass\n",
       "10    Ground\n",
       "11       Ice\n",
       "12    Normal\n",
       "13    Poison\n",
       "14   Psychic\n",
       "15      Rock\n",
       "16     Steel\n",
       "17     Water"
      ]
     },
     "execution_count": 156,
     "metadata": {},
     "output_type": "execute_result"
    }
   ],
   "source": [
    "pokemons_task_two_one"
   ]
  },
  {
   "cell_type": "markdown",
   "id": "21b9cf12-6c82-45b6-a3ab-30635a541392",
   "metadata": {},
   "source": [
    "---"
   ]
  },
  {
   "cell_type": "markdown",
   "id": "f7cafb89-f580-456b-ba86-004407987252",
   "metadata": {},
   "source": [
    "### У кого лучше общие показатели (Total): у покемонов двойного или одинарного типа?"
   ]
  },
  {
   "cell_type": "markdown",
   "id": "2ec5bb1e-ff6d-47f4-a596-79da7bf290b2",
   "metadata": {},
   "source": [
    "#### Метод сравнения двух переменных"
   ]
  },
  {
   "cell_type": "code",
   "execution_count": 217,
   "id": "28caa37b-dedd-4241-9763-5f5b143c11a3",
   "metadata": {
    "jupyter": {
     "source_hidden": true
    }
   },
   "outputs": [],
   "source": [
    "def comparator(value_one, value_two):\n",
    "    if value_one > value_two:\n",
    "        return (\"{0:.2f} > {1:.2f}\").format(value_one, value_two)\n",
    "    elif value_one < value_two:\n",
    "        return (\"{0:.2f} < {1:.2f}\").format(value_one, value_two)\n",
    "    else: \n",
    "        return (\"{0:.2f} = {1:.2f}\").format(value_one, value_two)"
   ]
  },
  {
   "cell_type": "markdown",
   "id": "9768a2fd-374b-48f5-97aa-1a4f698959c9",
   "metadata": {},
   "source": [
    "#### Формируем запросы и получаем результат"
   ]
  },
  {
   "cell_type": "code",
   "execution_count": null,
   "id": "79bc27f0-738a-42f6-8261-fab7d7826a02",
   "metadata": {
    "jupyter": {
     "source_hidden": true
    }
   },
   "outputs": [],
   "source": [
    "query_three_one = '''\n",
    "    SELECT (SELECT Sum(Total) FROM pokemons\n",
    "    WHERE \"Type 2\" IS NULL) as one_type\n",
    "    '''\n",
    "query_three_two = '''\n",
    "    SELECT (SELECT Sum(Total) FROM pokemons\n",
    "    WHERE \"Type 2\" IS NOT NULL) as two_types\n",
    "    '''\n",
    "pokemons_task_three_one = ps.sqldf(query_three_one, locals())\n",
    "pokemons_task_three_two = ps.sqldf(query_three_two, locals())"
   ]
  },
  {
   "cell_type": "markdown",
   "id": "014a164d-a8c0-47d4-8f10-e9a4c20602e0",
   "metadata": {},
   "source": [
    "#### Сравниваем показатели:"
   ]
  },
  {
   "cell_type": "code",
   "execution_count": 160,
   "id": "eab69e08-6d90-46f1-82b9-74b5a43efa39",
   "metadata": {},
   "outputs": [
    {
     "name": "stdout",
     "output_type": "stream",
     "text": [
      "189044.00 > 159038.00\n"
     ]
    }
   ],
   "source": [
    "print(comparator(pokemons_task_three_two.values.tolist()[0][0], pokemons_task_three_one.values.tolist()[0][0]))"
   ]
  },
  {
   "cell_type": "markdown",
   "id": "8dd0b29d-e8ab-41b2-aea3-cfe6ee1d0188",
   "metadata": {},
   "source": [
    "#### Итог: лучше общие показатели у покемонов двойного типа"
   ]
  },
  {
   "cell_type": "markdown",
   "id": "b27695a5-7f7a-4adc-b24d-7766ff00b1d6",
   "metadata": {},
   "source": [
    "#### т.е. лучше общие показатели у покемонов двойного типа\n",
    "---"
   ]
  },
  {
   "cell_type": "markdown",
   "id": "0b498ac4-d602-46cb-a198-5b1f1612f959",
   "metadata": {},
   "source": [
    "### У кого лучше средний показатель Защита (Defense): у покемонов типа Grass или у покемонов типа Fairy? (покемоны двойного типа учитываются)"
   ]
  },
  {
   "cell_type": "code",
   "execution_count": 218,
   "id": "4d6eaf49-d05c-4968-b0d0-95a99f1e61b0",
   "metadata": {
    "jupyter": {
     "source_hidden": true
    }
   },
   "outputs": [
    {
     "name": "stdout",
     "output_type": "stream",
     "text": [
      "73.25 > 70.40\n"
     ]
    }
   ],
   "source": [
    "query_four_one = '''\n",
    "    SELECT (SELECT Avg(Defense) FROM pokemons\n",
    "    WHERE \"Type 1\" IS \"Grass\" OR \"Type 2\" IS \"Grass\") as grass_type\n",
    "    '''\n",
    "query_four_two = '''\n",
    "    SELECT (SELECT Avg(Defense) FROM pokemons\n",
    "    WHERE \"Type 1\" IS \"Fairy\" OR \"Type 2\" IS \"Fairy\") as fairy_type\n",
    "    '''\n",
    "pokemons_task_four_one = ps.sqldf(query_four_one, locals())\n",
    "pokemons_task_four_two = ps.sqldf(query_four_two, locals())\n",
    "print(comparator(pokemons_task_four_one.values.tolist()[0][0], pokemons_task_four_two.values.tolist()[0][0]))"
   ]
  },
  {
   "cell_type": "markdown",
   "id": "ad3b8be9-fe72-4b2d-b787-0a640906d12f",
   "metadata": {},
   "source": [
    "### т.е. лучше средний показатель у покемонов типа Grass\n",
    "---"
   ]
  },
  {
   "cell_type": "markdown",
   "id": "ad7d38b1-f808-4455-891c-66d6b9466da7",
   "metadata": {},
   "source": [
    "## Мы полагаем, что среднестатистический легендарный покемон должен быть сильнее, чем среднестатистический нелегендарный. Подтвердите или опровергните это предположение."
   ]
  },
  {
   "cell_type": "code",
   "execution_count": 144,
   "id": "f27b97b8-027e-4e2e-9aed-5169904f3bac",
   "metadata": {
    "jupyter": {
     "source_hidden": true
    }
   },
   "outputs": [
    {
     "name": "stdout",
     "output_type": "stream",
     "text": [
      "637.38 > 417.21\n"
     ]
    }
   ],
   "source": [
    "query_five_one = '''\n",
    "    SELECT (SELECT Avg(Total) FROM pokemons\n",
    "    WHERE Legendary == True) as legendary_pokemons\n",
    "    '''\n",
    "query_five_two = '''\n",
    "    SELECT (SELECT Avg(Total) FROM pokemons\n",
    "    WHERE Legendary == False) as unlegendary_pokemons\n",
    "    '''\n",
    "pokemons_task_five_one = ps.sqldf(query_five_one, locals())\n",
    "pokemons_task_five_two = ps.sqldf(query_five_two, locals())\n",
    "print(comparator(pokemons_task_five_one.values.tolist()[0][0], pokemons_task_five_two.values.tolist()[0][0]))"
   ]
  },
  {
   "cell_type": "markdown",
   "id": "c3409ba7-d8e0-42b1-9678-16d58a8da0f8",
   "metadata": {},
   "source": [
    "### Да, предположение верно\n",
    "---"
   ]
  },
  {
   "cell_type": "markdown",
   "id": "45cf5a5a-0e63-4135-80f3-770e093be3e9",
   "metadata": {},
   "source": [
    "## Покажите все случаи (пары покемонов), когда легендарный покемон по показателю Total оказался слабее, чем нелегендарный. Сколько таких случаев?"
   ]
  },
  {
   "cell_type": "markdown",
   "id": "a9221062-3f70-4c79-a3dd-3d7b21452813",
   "metadata": {},
   "source": [
    "#### Пары покемонов:"
   ]
  },
  {
   "cell_type": "code",
   "execution_count": 106,
   "id": "2058cd39-3a8d-4e8e-87b1-37b5286bcbe2",
   "metadata": {
    "jupyter": {
     "source_hidden": true
    }
   },
   "outputs": [
    {
     "data": {
      "text/html": [
       "<div>\n",
       "<style scoped>\n",
       "    .dataframe tbody tr th:only-of-type {\n",
       "        vertical-align: middle;\n",
       "    }\n",
       "\n",
       "    .dataframe tbody tr th {\n",
       "        vertical-align: top;\n",
       "    }\n",
       "\n",
       "    .dataframe thead th {\n",
       "        text-align: right;\n",
       "    }\n",
       "</style>\n",
       "<table border=\"1\" class=\"dataframe\">\n",
       "  <thead>\n",
       "    <tr style=\"text-align: right;\">\n",
       "      <th></th>\n",
       "      <th>leg_name</th>\n",
       "      <th>unleg_name</th>\n",
       "    </tr>\n",
       "  </thead>\n",
       "  <tbody>\n",
       "    <tr>\n",
       "      <th>0</th>\n",
       "      <td>Articuno</td>\n",
       "      <td>AbomasnowMega Abomasnow</td>\n",
       "    </tr>\n",
       "    <tr>\n",
       "      <th>1</th>\n",
       "      <td>Articuno</td>\n",
       "      <td>AerodactylMega Aerodactyl</td>\n",
       "    </tr>\n",
       "    <tr>\n",
       "      <th>2</th>\n",
       "      <td>Articuno</td>\n",
       "      <td>AggronMega Aggron</td>\n",
       "    </tr>\n",
       "    <tr>\n",
       "      <th>3</th>\n",
       "      <td>Articuno</td>\n",
       "      <td>AlakazamMega Alakazam</td>\n",
       "    </tr>\n",
       "    <tr>\n",
       "      <th>4</th>\n",
       "      <td>Articuno</td>\n",
       "      <td>AltariaMega Altaria</td>\n",
       "    </tr>\n",
       "    <tr>\n",
       "      <th>...</th>\n",
       "      <td>...</td>\n",
       "      <td>...</td>\n",
       "    </tr>\n",
       "    <tr>\n",
       "      <th>1260</th>\n",
       "      <td>Volcanion</td>\n",
       "      <td>Slaking</td>\n",
       "    </tr>\n",
       "    <tr>\n",
       "      <th>1261</th>\n",
       "      <td>Volcanion</td>\n",
       "      <td>SteelixMega Steelix</td>\n",
       "    </tr>\n",
       "    <tr>\n",
       "      <th>1262</th>\n",
       "      <td>Volcanion</td>\n",
       "      <td>SwampertMega Swampert</td>\n",
       "    </tr>\n",
       "    <tr>\n",
       "      <th>1263</th>\n",
       "      <td>Volcanion</td>\n",
       "      <td>TyranitarMega Tyranitar</td>\n",
       "    </tr>\n",
       "    <tr>\n",
       "      <th>1264</th>\n",
       "      <td>Volcanion</td>\n",
       "      <td>VenusaurMega Venusaur</td>\n",
       "    </tr>\n",
       "  </tbody>\n",
       "</table>\n",
       "<p>1265 rows × 2 columns</p>\n",
       "</div>"
      ],
      "text/plain": [
       "       leg_name                 unleg_name\n",
       "0      Articuno    AbomasnowMega Abomasnow\n",
       "1      Articuno  AerodactylMega Aerodactyl\n",
       "2      Articuno          AggronMega Aggron\n",
       "3      Articuno      AlakazamMega Alakazam\n",
       "4      Articuno        AltariaMega Altaria\n",
       "...         ...                        ...\n",
       "1260  Volcanion                    Slaking\n",
       "1261  Volcanion        SteelixMega Steelix\n",
       "1262  Volcanion      SwampertMega Swampert\n",
       "1263  Volcanion    TyranitarMega Tyranitar\n",
       "1264  Volcanion      VenusaurMega Venusaur\n",
       "\n",
       "[1265 rows x 2 columns]"
      ]
     },
     "execution_count": 106,
     "metadata": {},
     "output_type": "execute_result"
    }
   ],
   "source": [
    "query_six = '''\n",
    "    Select leg_name, unleg_name FROM (SELECT Name as leg_name, Total as leg_total FROM pokemons\n",
    "    WHERE Legendary == True ) as leg_poke\n",
    "    Right Join\n",
    "    (SELECT Name as unleg_name, Total as unleg_total FROM pokemons\n",
    "    WHERE Legendary == False) as unleg_poke \n",
    "    WHERE leg_total < unleg_total\n",
    "    '''\n",
    "pokemons_task_six = ps.sqldf(query_six, locals())\n",
    "pokemons_task_six"
   ]
  },
  {
   "cell_type": "markdown",
   "id": "2462998f-e6d2-4116-aa91-328ac4681d17",
   "metadata": {},
   "source": [
    "#### Количество таких случаев"
   ]
  },
  {
   "cell_type": "code",
   "execution_count": 179,
   "id": "5871428a-d50a-475f-b39b-0122321992ed",
   "metadata": {},
   "outputs": [
    {
     "name": "stdout",
     "output_type": "stream",
     "text": [
      "1265\n"
     ]
    }
   ],
   "source": [
    "print(len(pokemons_task_six_one.values.tolist()))"
   ]
  },
  {
   "cell_type": "markdown",
   "id": "ef44ae39-25f7-4f7e-aaf9-b06a9d439296",
   "metadata": {},
   "source": [
    "---"
   ]
  },
  {
   "cell_type": "markdown",
   "id": "da8f4486-20fd-4f46-bccc-09d49d0e7b99",
   "metadata": {},
   "source": [
    "### Для каждой пары, в которой нелегендарный покемон оказывается сильнее легендарного посчитайте разницу в показателе Total. Постройте гистограму полученной величины. Похоже ли распределение на нормальное? Рассчитайте среднее арифметическое, медиану и моду данной величины."
   ]
  },
  {
   "cell_type": "code",
   "execution_count": 72,
   "id": "eed72d83-6db6-446d-9829-f755c33ad5ca",
   "metadata": {
    "jupyter": {
     "source_hidden": true
    }
   },
   "outputs": [
    {
     "data": {
      "text/plain": [
       "<Axes: xlabel='total', ylabel='Count'>"
      ]
     },
     "execution_count": 72,
     "metadata": {},
     "output_type": "execute_result"
    },
    {
     "data": {
      "image/png": "[encoded data removed]",
      "text/plain": [
       "<Figure size 640x480 with 1 Axes>"
      ]
     },
     "metadata": {},
     "output_type": "display_data"
    }
   ],
   "source": [
    "query_seven = '''\n",
    "    Select (unleg_total - leg_total) as total FROM (SELECT Name as leg_name, Total as leg_total FROM pokemons\n",
    "    WHERE Legendary == True ) as leg_poke\n",
    "    Right Join\n",
    "    (SELECT Name as unleg_name, Total as unleg_total FROM pokemons\n",
    "    WHERE Legendary == False) as unleg_poke \n",
    "    WHERE leg_total < unleg_total\n",
    "    '''\n",
    "pokemons_task_seven = ps.sqldf(query_seven, locals())\n",
    "sns.histplot(pokemons_task_seven['total'], kde=True, \n",
    "              color = 'blue')"
   ]
  },
  {
   "cell_type": "markdown",
   "id": "147d382c-2366-41bb-8a76-62a63cd430b1",
   "metadata": {},
   "source": [
    "#### Среднее арифметическое:"
   ]
  },
  {
   "cell_type": "code",
   "execution_count": 102,
   "id": "82c476d1-b049-4f72-b699-1069e13cb021",
   "metadata": {},
   "outputs": [
    {
     "name": "stdout",
     "output_type": "stream",
     "text": [
      "38.75\n"
     ]
    }
   ],
   "source": [
    "print(\"{0:.2f}\".format(statistics.mean(pokemons_task_seven['total'].values.tolist())))"
   ]
  },
  {
   "cell_type": "markdown",
   "id": "1a7bf718-2e0d-4f73-91e6-ce20553f5c32",
   "metadata": {},
   "source": [
    "#### Медиана:"
   ]
  },
  {
   "cell_type": "code",
   "execution_count": 103,
   "id": "ed7f08df-3ea1-413a-a292-1f71dc443a76",
   "metadata": {},
   "outputs": [
    {
     "name": "stdout",
     "output_type": "stream",
     "text": [
      "25.00\n"
     ]
    }
   ],
   "source": [
    "print(\"{0:.2f}\".format(statistics.median(pokemons_task_seven['total'].values.tolist())))"
   ]
  },
  {
   "cell_type": "markdown",
   "id": "f228d5f8-4b8a-4b43-a6d8-ab40e86334e3",
   "metadata": {},
   "source": [
    "#### Мода:"
   ]
  },
  {
   "cell_type": "code",
   "execution_count": 104,
   "id": "9482d208-215d-423c-acf8-dcde7b817911",
   "metadata": {},
   "outputs": [
    {
     "name": "stdout",
     "output_type": "stream",
     "text": [
      "20.00\n"
     ]
    }
   ],
   "source": [
    "print(\"{0:.2f}\".format(statistics.mode(pokemons_task_seven['total'].values.tolist())))"
   ]
  },
  {
   "cell_type": "markdown",
   "id": "3bec1883-4295-427b-8922-db8afac9aa71",
   "metadata": {},
   "source": [
    "#### Полученное распределение не является нормальным (Мода < Медианы < Ср.Арифметического)\n",
    "---"
   ]
  },
  {
   "cell_type": "markdown",
   "id": "e1130a58-30f8-423a-9628-c3bc4bb2da47",
   "metadata": {},
   "source": [
    "### Назовите две характеристики покемонов, которые коррелируют в наименьшей степени."
   ]
  },
  {
   "cell_type": "markdown",
   "id": "ab7075c7-f552-4741-a13e-1de568bbdff8",
   "metadata": {},
   "source": [
    "#### Измерять степень корреляции мы будем с помощью коэфициента Пирсона:\n",
    "\n",
    "$$ r = \\frac{\\Sigma(x-\\neg{x})(y-\\neg{y})}{\\sqrt{\\Sigma(x-\\neg{x})^2\\Sigma(y-\\neg{y})^2}} $$"
   ]
  },
  {
   "cell_type": "markdown",
   "id": "93a00ddf-a785-4fcb-af59-b43e01c77aa7",
   "metadata": {},
   "source": [
    "#### Коэффициент корреляции HP"
   ]
  },
  {
   "cell_type": "code",
   "execution_count": 185,
   "id": "46f78818-8fd2-4f12-9c9e-4ff517ebdd41",
   "metadata": {},
   "outputs": [
    {
     "name": "stdout",
     "output_type": "stream",
     "text": [
      "0.62\n"
     ]
    }
   ],
   "source": [
    "print(\"{0:.2f}\".format(pokemons['Total'].corr(pokemons['HP'])))"
   ]
  },
  {
   "cell_type": "markdown",
   "id": "be83884f-9430-4a90-b3ca-6c00bfdcd5b8",
   "metadata": {},
   "source": [
    "#### Коэффициент корреляции Attack"
   ]
  },
  {
   "cell_type": "code",
   "execution_count": 184,
   "id": "8d5b1f23-3774-4001-9d2c-9525d8ae8f6a",
   "metadata": {},
   "outputs": [
    {
     "name": "stdout",
     "output_type": "stream",
     "text": [
      "0.74\n"
     ]
    }
   ],
   "source": [
    "print(\"{0:.2f}\".format(pokemons['Total'].corr(pokemons['Attack'])))"
   ]
  },
  {
   "cell_type": "markdown",
   "id": "bdfc7338-09fc-4569-bf5d-37d26a42f005",
   "metadata": {},
   "source": [
    "#### Коэффициент корреляции Defense"
   ]
  },
  {
   "cell_type": "code",
   "execution_count": 186,
   "id": "389a161e-984f-4af5-b4e0-614a3835913c",
   "metadata": {},
   "outputs": [
    {
     "name": "stdout",
     "output_type": "stream",
     "text": [
      "0.61\n"
     ]
    }
   ],
   "source": [
    "print(\"{0:.2f}\".format(pokemons['Total'].corr(pokemons['Defense'])))"
   ]
  },
  {
   "cell_type": "markdown",
   "id": "d836aaba-5fdd-44ce-8055-2ba124149530",
   "metadata": {},
   "source": [
    "#### Коэффициент корреляции Sp. Atk"
   ]
  },
  {
   "cell_type": "code",
   "execution_count": 193,
   "id": "716c2850-fc87-483f-9282-902452717125",
   "metadata": {},
   "outputs": [
    {
     "name": "stdout",
     "output_type": "stream",
     "text": [
      "0.75\n"
     ]
    }
   ],
   "source": [
    "print(\"{0:.2f}\".format(pokemons['Total'].corr(pokemons['Sp. Atk'])))"
   ]
  },
  {
   "cell_type": "markdown",
   "id": "25943a48-25bb-45da-9980-8cd18c18740a",
   "metadata": {},
   "source": [
    "#### Коэффициент корреляции Sp. Def"
   ]
  },
  {
   "cell_type": "code",
   "execution_count": 195,
   "id": "3bdf0779-ae55-43aa-b425-dd05c5f4a731",
   "metadata": {},
   "outputs": [
    {
     "name": "stdout",
     "output_type": "stream",
     "text": [
      "0.72\n"
     ]
    }
   ],
   "source": [
    "print(\"{0:.2f}\".format(pokemons['Total'].corr(pokemons['Sp. Def'])))"
   ]
  },
  {
   "cell_type": "markdown",
   "id": "a3f9dc4f-0216-46d6-a1bf-ab71b2ad7e02",
   "metadata": {},
   "source": [
    "#### Коэффициент корреляции Speed"
   ]
  },
  {
   "cell_type": "code",
   "execution_count": 196,
   "id": "d77661c0-3c5c-419b-bee9-ad0a60657930",
   "metadata": {},
   "outputs": [
    {
     "name": "stdout",
     "output_type": "stream",
     "text": [
      "0.58\n"
     ]
    }
   ],
   "source": [
    "print(\"{0:.2f}\".format(pokemons['Total'].corr(pokemons['Speed'])))"
   ]
  },
  {
   "cell_type": "markdown",
   "id": "44772f5f-838e-44d2-a3ea-4bdeb0168e83",
   "metadata": {},
   "source": [
    "#### Из полученных значений можем сделать вывод, что наименее коррелируют характеристики Defense и Speed\n",
    "---"
   ]
  },
  {
   "cell_type": "markdown",
   "id": "4204d913-bb15-4950-8f19-505400a28a24",
   "metadata": {},
   "source": [
    "### Что делает покемона легендарным, кроме суммы характеристик? Важнее сила атаки или сила защиты, а может сила специальной атаки или сила специальной защиты, или скорость, или здоровье? А может важна уникальность типа или поколение покемона? Подкрепите свое мнение расчетами.\n",
    "\n",
    "#### Измерять степень влияния характеристик на легендарность мы будем также с помощью коэффициента корреляции."
   ]
  },
  {
   "cell_type": "code",
   "execution_count": 198,
   "id": "5c4513b1-910e-4017-bf53-86bfdc9bd667",
   "metadata": {
    "jupyter": {
     "source_hidden": true
    }
   },
   "outputs": [],
   "source": [
    "query_nine = '''\n",
    "    SELECT * FROM pokemons\n",
    "    WHERE Legendary IS True\n",
    "    '''\n",
    "pokemons_task_nine_one = ps.sqldf(query_nine, locals())"
   ]
  },
  {
   "cell_type": "markdown",
   "id": "d2c189dd-d350-407e-a12f-0f6af7dfb511",
   "metadata": {},
   "source": [
    "#### Коэффициент корреляции HP:"
   ]
  },
  {
   "cell_type": "code",
   "execution_count": 200,
   "id": "ef7d9653-8008-4e23-8312-829c1693c51f",
   "metadata": {},
   "outputs": [
    {
     "name": "stdout",
     "output_type": "stream",
     "text": [
      "0.45\n"
     ]
    }
   ],
   "source": [
    "print(\"{0:.2f}\".format(pokemons_task_nine_one['Total'].corr(pokemons_task_nine_one['HP'])))"
   ]
  },
  {
   "cell_type": "markdown",
   "id": "fca3710d-cb5b-4d1c-b7e5-bede460cd208",
   "metadata": {},
   "source": [
    "#### Коэффициент корреляции Attack:"
   ]
  },
  {
   "cell_type": "code",
   "execution_count": 201,
   "id": "7c7f26cb-3ae3-47a0-b587-d079d054e0ff",
   "metadata": {},
   "outputs": [
    {
     "name": "stdout",
     "output_type": "stream",
     "text": [
      "0.67\n"
     ]
    }
   ],
   "source": [
    "print(\"{0:.2f}\".format(pokemons_task_nine_one['Total'].corr(pokemons_task_nine_one['Attack'])))"
   ]
  },
  {
   "cell_type": "markdown",
   "id": "32aecca4-7cd7-4291-8427-812c56035bfd",
   "metadata": {},
   "source": [
    "#### Коэффициент корреляции Defense:"
   ]
  },
  {
   "cell_type": "code",
   "execution_count": 202,
   "id": "54406d32-1fd4-49d6-b5c2-f8a57e2f8b19",
   "metadata": {},
   "outputs": [
    {
     "name": "stdout",
     "output_type": "stream",
     "text": [
      "0.11\n"
     ]
    }
   ],
   "source": [
    "print(\"{0:.2f}\".format(pokemons_task_nine_one['Total'].corr(pokemons_task_nine_one['Defense'])))"
   ]
  },
  {
   "cell_type": "markdown",
   "id": "0d90cde7-1e83-4131-85ac-1f6f882e0df5",
   "metadata": {},
   "source": [
    "#### Коэффициент корреляции Sp. Atk:"
   ]
  },
  {
   "cell_type": "code",
   "execution_count": 203,
   "id": "ef455fb6-796b-406c-bb0c-ffef1477ea56",
   "metadata": {},
   "outputs": [
    {
     "name": "stdout",
     "output_type": "stream",
     "text": [
      "0.61\n"
     ]
    }
   ],
   "source": [
    "print(\"{0:.2f}\".format(pokemons_task_nine_one['Total'].corr(pokemons_task_nine_one['Sp. Atk'])))"
   ]
  },
  {
   "cell_type": "markdown",
   "id": "2952c169-5c9d-441d-8a07-f51c4069e553",
   "metadata": {},
   "source": [
    "#### Коэффициент корреляции Sp. Def:"
   ]
  },
  {
   "cell_type": "code",
   "execution_count": 204,
   "id": "68a401a0-94e5-4884-b21e-4c1cfee8a492",
   "metadata": {},
   "outputs": [
    {
     "name": "stdout",
     "output_type": "stream",
     "text": [
      "0.19\n"
     ]
    }
   ],
   "source": [
    "print(\"{0:.2f}\".format(pokemons_task_nine_one['Total'].corr(pokemons_task_nine_one['Sp. Def'])))"
   ]
  },
  {
   "cell_type": "markdown",
   "id": "7598ef7a-1442-4515-9063-651b87c90b0e",
   "metadata": {},
   "source": [
    "#### Коэффициент корреляции Speed:"
   ]
  },
  {
   "cell_type": "code",
   "execution_count": 205,
   "id": "6c21ee73-8330-4b1a-b820-cdec66f053ad",
   "metadata": {},
   "outputs": [
    {
     "name": "stdout",
     "output_type": "stream",
     "text": [
      "0.14\n"
     ]
    }
   ],
   "source": [
    "print(\"{0:.2f}\".format(pokemons_task_nine_one['Total'].corr(pokemons_task_nine_one['Speed'])))"
   ]
  },
  {
   "cell_type": "markdown",
   "id": "dce0cc58-484c-47e4-b251-5b9d8f5ec7fe",
   "metadata": {},
   "source": [
    "#### Влияние поколения и типа на легендарность мы сможем с помощью графиков"
   ]
  },
  {
   "cell_type": "code",
   "execution_count": 173,
   "id": "27b67fde-4f4b-41f3-bec7-ffbde5dd026f",
   "metadata": {
    "jupyter": {
     "source_hidden": true
    }
   },
   "outputs": [
    {
     "data": {
      "text/plain": [
       "<Axes: xlabel='Generation', ylabel='Total'>"
      ]
     },
     "execution_count": 173,
     "metadata": {},
     "output_type": "execute_result"
    },
    {
     "data": {
      "image/png": "[encoded data removed]",
      "text/plain": [
       "<Figure size 640x480 with 1 Axes>"
      ]
     },
     "metadata": {},
     "output_type": "display_data"
    }
   ],
   "source": [
    "pokemons_task_nine_two = pokemons.groupby(['Generation', 'Legendary']).agg(Total=(\"Total\", 'mean')) \n",
    "\n",
    "sns.barplot(x=\"Generation\", \n",
    "           y=\"Total\", \n",
    "           hue=\"Legendary\", \n",
    "           data=pokemons_task_nine_two)"
   ]
  },
  {
   "cell_type": "markdown",
   "id": "23d9c1ce-1de3-4958-8f98-7c25f224b528",
   "metadata": {},
   "source": [
    "##### График влияния поколения на легендарность"
   ]
  },
  {
   "cell_type": "code",
   "execution_count": 210,
   "id": "a050c8bf-3abe-40f4-b966-c48c326925c7",
   "metadata": {
    "jupyter": {
     "source_hidden": true
    }
   },
   "outputs": [
    {
     "data": {
      "text/plain": [
       "<Axes: xlabel='Total', ylabel='Type 1'>"
      ]
     },
     "execution_count": 210,
     "metadata": {},
     "output_type": "execute_result"
    },
    {
     "data": {
      "image/png": "[encoded data removed]",
      "text/plain": [
       "<Figure size 640x480 with 1 Axes>"
      ]
     },
     "metadata": {},
     "output_type": "display_data"
    }
   ],
   "source": [
    "pokemons_task_nine_three = pokemons.groupby(['Type 1', 'Legendary']).agg(Total=(\"Total\", 'mean')) \n",
    "\n",
    "sns.barplot(y=\"Type 1\", \n",
    "           x=\"Total\", \n",
    "           hue=\"Legendary\", \n",
    "           data=pokemons_task_nine_three)"
   ]
  },
  {
   "cell_type": "markdown",
   "id": "41a1ebd0-fe4a-48aa-9e38-1f4c1764b877",
   "metadata": {},
   "source": [
    "##### График влияния типа на легендарность"
   ]
  },
  {
   "cell_type": "code",
   "execution_count": 182,
   "id": "cc089761-db5f-49e5-9c61-d132a4fc4339",
   "metadata": {},
   "outputs": [
    {
     "data": {
      "text/plain": [
       "<Axes: xlabel='Count', ylabel='Type 1'>"
      ]
     },
     "execution_count": 182,
     "metadata": {},
     "output_type": "execute_result"
    },
    {
     "data": {
      "image/png": "[encoded data removed]",
      "text/plain": [
       "<Figure size 640x480 with 1 Axes>"
      ]
     },
     "metadata": {},
     "output_type": "display_data"
    }
   ],
   "source": [
    "sns.histplot(y = pokemons['Type 1'])"
   ]
  },
  {
   "cell_type": "markdown",
   "id": "81b94aaf-3e2b-433f-b68c-67af635cf69b",
   "metadata": {},
   "source": [
    "##### График уникальности типов"
   ]
  },
  {
   "cell_type": "markdown",
   "id": "a8e7ad25-9228-4552-a8b2-cf0d6b0ff5f9",
   "metadata": {},
   "source": [
    "#### Для наглядности отличия характеристик обычных покемонов и легендарных были созданны несколько чартов в Datalens. Ссылка на дашборд: [*тык*](https://datalens.yandex/59cnteymnn50s)"
   ]
  },
  {
   "cell_type": "markdown",
   "id": "ae4919ca-9f2b-4619-bd6c-70c5c8ecec86",
   "metadata": {},
   "source": [
    "#### Из полученных данных можем сделать вывод, что на легендарность влияют как общее повышение суммы характеристик Total, так и увеличенное влияние таких характеристик как HP, Attack и Sp. Atk."
   ]
  },
  {
   "cell_type": "code",
   "execution_count": null,
   "id": "8f36e512-ce19-4f0d-9036-53a0bf87c435",
   "metadata": {},
   "outputs": [],
   "source": []
  }
 ],
 "metadata": {
  "kernelspec": {
   "display_name": "Python 3 (ipykernel)",
   "language": "python",
   "name": "python3"
  },
  "language_info": {
   "codemirror_mode": {
    "name": "ipython",
    "version": 3
   },
   "file_extension": ".py",
   "mimetype": "text/x-python",
   "name": "python",
   "nbconvert_exporter": "python",
   "pygments_lexer": "ipython3",
   "version": "3.12.6"
  }
 },
 "nbformat": 4,
 "nbformat_minor": 5
}
